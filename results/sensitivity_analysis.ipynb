{
 "cells": [
  {
   "cell_type": "code",
   "execution_count": 6,
   "id": "d6b3f1e2",
   "metadata": {},
   "outputs": [],
   "source": [
    "from plot_utils import read_event_history\n",
    "import matplotlib.pyplot as plt\n",
    "import seaborn as sns\n",
    "import pandas as pd\n",
    "sns.set(style=\"whitegrid\")"
   ]
  },
  {
   "cell_type": "code",
   "execution_count": 7,
   "id": "953c27fb",
   "metadata": {},
   "outputs": [],
   "source": [
    "event_history, num_customers = read_event_history(\"event_history.csv\")\n",
    "event_history.sort_values(by=\"actual_group\", inplace=True)\n",
    "custom_log = pd.read_csv(\"custom_log.csv\")"
   ]
  },
  {
   "cell_type": "markdown",
   "id": "76a49245",
   "metadata": {},
   "source": [
    "### Loss Aversion"
   ]
  },
  {
   "cell_type": "code",
   "execution_count": null,
   "id": "f3368c9f",
   "metadata": {},
   "outputs": [],
   "source": [
    "fig, axs = plt.subplots(2, 2, figsize=(12, 12), sharey=True)\n",
    "\n",
    "\n",
    "for row_idx, row in enumerate(['customer_wtp', 'rp']):\n",
    "    for col_idx, col in enumerate([0, 1]):\n",
    "        # Show legend only for the first subplot (0,0)\n",
    "        show_legend = (row_idx == 0 and col_idx == 0)\n",
    "        \n",
    "        sns.scatterplot(\n",
    "            x=\"t\", \n",
    "            y=row, \n",
    "            data=event_history.loc[\n",
    "                (event_history.event == 'visit') &\n",
    "                (event_history.run_id == col)],\n",
    "            hue=\"actual_group\", \n",
    "            ax=axs[row_idx, col_idx],\n",
    "            legend=show_legend)\n",
    "        \n",
    "        # Add better titles for each subplot\n",
    "        # axs[row_idx, col_idx].set_title(f\"Run {row}: {col}\")\n",
    "\n",
    "# Improve layout\n",
    "plt.tight_layout()"
   ]
  },
  {
   "cell_type": "markdown",
   "id": "41bd4571",
   "metadata": {},
   "source": [
    "### Market Transparency"
   ]
  },
  {
   "cell_type": "code",
   "execution_count": null,
   "id": "a8f70691",
   "metadata": {},
   "outputs": [],
   "source": [
    "fig, axs = plt.subplots(2, 2, figsize=(12, 12), sharey=True)\n",
    "\n",
    "\n",
    "for row_idx, row in enumerate(['erp', 'rp']):\n",
    "    for col_idx, col in enumerate([0, 1]):\n",
    "        # Show legend only for the first subplot (0,0)\n",
    "        show_legend = (row_idx == 0 and col_idx == 0)\n",
    "        \n",
    "        sns.scatterplot(\n",
    "            x=\"t\", \n",
    "            y=row, \n",
    "            data=event_history.loc[\n",
    "                (event_history.event == 'visit') &\n",
    "                (event_history.run_id == col_idx)],\n",
    "            hue=\"actual_group\", \n",
    "            ax=axs[row_idx, col_idx],\n",
    "            legend=show_legend)\n",
    "        \n",
    "        # Add better titles for each subplot\n",
    "        # axs[row_idx, col_idx].set_title(f\"Run {row}: {col}\")\n",
    "\n",
    "# Improve layout\n",
    "plt.tight_layout()"
   ]
  },
  {
   "cell_type": "markdown",
   "id": "2ae451a2",
   "metadata": {},
   "source": [
    "#### Effect of market transparency on revenue"
   ]
  },
  {
   "cell_type": "code",
   "execution_count": 8,
   "id": "7af9c4e0",
   "metadata": {},
   "outputs": [
    {
     "name": "stderr",
     "output_type": "stream",
     "text": [
      "/home/laurin/.local/lib/python3.12/site-packages/seaborn/axisgrid.py:718: UserWarning: Using the boxplot function without specifying `order` is likely to produce an incorrect plot.\n",
      "  warnings.warn(warning)\n"
     ]
    },
    {
     "data": {
      "text/plain": [
       "<seaborn.axisgrid.FacetGrid at 0x785d9c6e5250>"
      ]
     },
     "execution_count": 8,
     "metadata": {},
     "output_type": "execute_result"
    },
    {
     "data": {
      "image/png": "[encoded data removed]",
      "text/plain": [
       "<Figure size 300x300 with 1 Axes>"
      ]
     },
     "metadata": {},
     "output_type": "display_data"
    }
   ],
   "source": [
    "g = sns.FacetGrid(custom_log, col=\"scenario_id\")\n",
    "g.map(sns.boxplot, \"run_id\", \"revenue\")"
   ]
  },
  {
   "cell_type": "code",
   "execution_count": 86,
   "id": "97aad140",
   "metadata": {},
   "outputs": [],
   "source": [
    "sold_events = event_history.loc[event_history.event=='sold']"
   ]
  },
  {
   "cell_type": "code",
   "execution_count": 87,
   "id": "fe8c29d2",
   "metadata": {},
   "outputs": [
    {
     "data": {
      "text/plain": [
       "np.float64(19.20428134556575)"
      ]
     },
     "execution_count": 87,
     "metadata": {},
     "output_type": "execute_result"
    }
   ],
   "source": [
    "(sold_events['customer_wtp'] - sold_events['price']).mean()"
   ]
  },
  {
   "cell_type": "code",
   "execution_count": null,
   "id": "b94d0ccc",
   "metadata": {},
   "outputs": [],
   "source": []
  },
  {
   "cell_type": "code",
   "execution_count": null,
   "id": "0ccd4995",
   "metadata": {},
   "outputs": [],
   "source": []
  }
 ],
 "metadata": {
  "kernelspec": {
   "display_name": "Python 3",
   "language": "python",
   "name": "python3"
  },
  "language_info": {
   "codemirror_mode": {
    "name": "ipython",
    "version": 3
   },
   "file_extension": ".py",
   "mimetype": "text/x-python",
   "name": "python",
   "nbconvert_exporter": "python",
   "pygments_lexer": "ipython3",
   "version": "3.12.3"
  }
 },
 "nbformat": 4,
 "nbformat_minor": 5
}
