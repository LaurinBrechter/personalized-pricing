{
 "cells": [
  {
   "cell_type": "code",
   "execution_count": 2,
   "metadata": {},
   "outputs": [],
   "source": [
    "import polars as pl\n",
    "import matplotlib.pyplot as plt\n",
    "import seaborn as sns"
   ]
  },
  {
   "cell_type": "code",
   "execution_count": 59,
   "metadata": {},
   "outputs": [],
   "source": [
    "df = (\n",
    "    pl.read_csv(\n",
    "        \"./data/mkechinov/events.csv\",  # https://www.kaggle.com/datasets/mkechinov/ecommerce-events-history-in-electronics-store\n",
    "    )\n",
    "    .lazy()\n",
    "    .with_columns(pl.col(\"event_time\").str.replace(\" UTC\", \"\"))\n",
    "    .with_columns(pl.col(\"event_time\").str.to_datetime(format=\"%Y-%m-%d %H:%M:%S\"))\n",
    "    .with_columns(\n",
    "        lagged=pl.col(\"event_time\")\n",
    "        .shift(1)\n",
    "        .over(pl.col(\"user_id\"), order_by=pl.col(\"event_time\"))\n",
    "    )\n",
    "    .with_columns(time_diff=pl.col(\"event_time\") - pl.col(\"lagged\"))\n",
    "    .with_columns(time_diff_mins=pl.col(\"time_diff\").dt.total_minutes())\n",
    ")"
   ]
  },
  {
   "cell_type": "code",
   "execution_count": 60,
   "metadata": {},
   "outputs": [],
   "source": [
    "users_greater_10_sessions = df.group_by(\"user_id\").agg(\n",
    "    pl.col(\"user_session\").n_unique().alias(\"n_sessions\"),\n",
    "    pl.col(\"event_type\").is_in([\"purchase\"]).sum().alias(\"n_purchases\"),\n",
    ").filter(pl.col(\"n_sessions\") > 10)\n"
   ]
  },
  {
   "cell_type": "code",
   "execution_count": 61,
   "metadata": {},
   "outputs": [
    {
     "data": {
      "text/html": [
       "<div><style>\n",
       ".dataframe > thead > tr,\n",
       ".dataframe > tbody > tr {\n",
       "  text-align: right;\n",
       "  white-space: pre-wrap;\n",
       "}\n",
       "</style>\n",
       "<small>shape: (490_399, 5)</small><table border=\"1\" class=\"dataframe\"><thead><tr><th>user_session</th><th>first_event</th><th>last_event</th><th>user_id</th><th>session_duration</th></tr><tr><td>str</td><td>datetime[μs]</td><td>datetime[μs]</td><td>i64</td><td>duration[μs]</td></tr></thead><tbody><tr><td>&quot;oinwgD2Oq0&quot;</td><td>2020-12-06 18:44:15</td><td>2020-12-06 18:44:15</td><td>1515915625550773902</td><td>0µs</td></tr><tr><td>&quot;7b8mCT8gfJ&quot;</td><td>2021-01-26 09:40:08</td><td>2021-01-26 09:40:08</td><td>1515915625596956207</td><td>0µs</td></tr><tr><td>&quot;jqqWrv4OVN&quot;</td><td>2020-10-12 19:30:14</td><td>2020-10-12 19:36:50</td><td>1515915625517305727</td><td>6m 36s</td></tr><tr><td>&quot;nlMUYO6gdc&quot;</td><td>2021-01-24 07:24:47</td><td>2021-01-24 07:24:47</td><td>1515915625596470056</td><td>0µs</td></tr><tr><td>&quot;vvjPLTsGx1&quot;</td><td>2021-02-24 17:18:35</td><td>2021-02-24 17:18:35</td><td>1515915625609211548</td><td>0µs</td></tr><tr><td>&hellip;</td><td>&hellip;</td><td>&hellip;</td><td>&hellip;</td><td>&hellip;</td></tr><tr><td>&quot;Et5dZ84CO8&quot;</td><td>2021-01-09 05:27:45</td><td>2021-01-09 05:27:45</td><td>1515915625590905486</td><td>0µs</td></tr><tr><td>&quot;KFWEpJHFzH&quot;</td><td>2020-11-14 12:30:00</td><td>2020-11-14 12:30:00</td><td>1515915625539290050</td><td>0µs</td></tr><tr><td>&quot;Aq4FQAfbut&quot;</td><td>2020-10-10 08:09:35</td><td>2020-10-10 08:09:35</td><td>1515915625523640894</td><td>0µs</td></tr><tr><td>&quot;VZ5wNyOuCX&quot;</td><td>2021-02-26 17:12:56</td><td>2021-02-26 17:20:06</td><td>1515915625610086203</td><td>7m 10s</td></tr><tr><td>&quot;7gPopEJEyq&quot;</td><td>2020-12-17 06:49:41</td><td>2020-12-17 06:49:41</td><td>1515915625563984237</td><td>0µs</td></tr></tbody></table></div>"
      ],
      "text/plain": [
       "shape: (490_399, 5)\n",
       "┌──────────────┬──────────────┬─────────────────────┬─────────────────────┬──────────────────┐\n",
       "│ user_session ┆ first_event  ┆ last_event          ┆ user_id             ┆ session_duration │\n",
       "│ ---          ┆ ---          ┆ ---                 ┆ ---                 ┆ ---              │\n",
       "│ str          ┆ datetime[μs] ┆ datetime[μs]        ┆ i64                 ┆ duration[μs]     │\n",
       "╞══════════════╪══════════════╪═════════════════════╪═════════════════════╪══════════════════╡\n",
       "│ oinwgD2Oq0   ┆ 2020-12-06   ┆ 2020-12-06 18:44:15 ┆ 1515915625550773902 ┆ 0µs              │\n",
       "│              ┆ 18:44:15     ┆                     ┆                     ┆                  │\n",
       "│ 7b8mCT8gfJ   ┆ 2021-01-26   ┆ 2021-01-26 09:40:08 ┆ 1515915625596956207 ┆ 0µs              │\n",
       "│              ┆ 09:40:08     ┆                     ┆                     ┆                  │\n",
       "│ jqqWrv4OVN   ┆ 2020-10-12   ┆ 2020-10-12 19:36:50 ┆ 1515915625517305727 ┆ 6m 36s           │\n",
       "│              ┆ 19:30:14     ┆                     ┆                     ┆                  │\n",
       "│ nlMUYO6gdc   ┆ 2021-01-24   ┆ 2021-01-24 07:24:47 ┆ 1515915625596470056 ┆ 0µs              │\n",
       "│              ┆ 07:24:47     ┆                     ┆                     ┆                  │\n",
       "│ vvjPLTsGx1   ┆ 2021-02-24   ┆ 2021-02-24 17:18:35 ┆ 1515915625609211548 ┆ 0µs              │\n",
       "│              ┆ 17:18:35     ┆                     ┆                     ┆                  │\n",
       "│ …            ┆ …            ┆ …                   ┆ …                   ┆ …                │\n",
       "│ Et5dZ84CO8   ┆ 2021-01-09   ┆ 2021-01-09 05:27:45 ┆ 1515915625590905486 ┆ 0µs              │\n",
       "│              ┆ 05:27:45     ┆                     ┆                     ┆                  │\n",
       "│ KFWEpJHFzH   ┆ 2020-11-14   ┆ 2020-11-14 12:30:00 ┆ 1515915625539290050 ┆ 0µs              │\n",
       "│              ┆ 12:30:00     ┆                     ┆                     ┆                  │\n",
       "│ Aq4FQAfbut   ┆ 2020-10-10   ┆ 2020-10-10 08:09:35 ┆ 1515915625523640894 ┆ 0µs              │\n",
       "│              ┆ 08:09:35     ┆                     ┆                     ┆                  │\n",
       "│ VZ5wNyOuCX   ┆ 2021-02-26   ┆ 2021-02-26 17:20:06 ┆ 1515915625610086203 ┆ 7m 10s           │\n",
       "│              ┆ 17:12:56     ┆                     ┆                     ┆                  │\n",
       "│ 7gPopEJEyq   ┆ 2020-12-17   ┆ 2020-12-17 06:49:41 ┆ 1515915625563984237 ┆ 0µs              │\n",
       "│              ┆ 06:49:41     ┆                     ┆                     ┆                  │\n",
       "└──────────────┴──────────────┴─────────────────────┴─────────────────────┴──────────────────┘"
      ]
     },
     "execution_count": 61,
     "metadata": {},
     "output_type": "execute_result"
    }
   ],
   "source": [
    "sessions = df.group_by(\"user_session\").agg(\n",
    "    pl.col(\"event_time\").min().alias(\"first_event\"),\n",
    "    pl.col(\"event_time\").max().alias(\"last_event\"),\n",
    "    pl.col('user_id').first().alias('user_id')\n",
    ").with_columns(\n",
    "    session_duration=pl.col(\"last_event\") - pl.col(\"first_event\")\n",
    ")\n",
    "sessions.collect()"
   ]
  },
  {
   "cell_type": "code",
   "execution_count": 88,
   "metadata": {},
   "outputs": [],
   "source": [
    "dist_time_between_sessions = sessions.join(users_greater_10_sessions, on=\"user_id\", how=\"inner\").group_by(\n",
    "    \"user_id\"\n",
    ").agg(\n",
    "    pl.col(\"first_event\")\n",
    "    .sort()\n",
    "    .diff()\n",
    "    .slice(1)\n",
    "    .dt.total_hours()\n",
    "    .alias(\"avg_time_between_sessions\")\n",
    ").collect()"
   ]
  },
  {
   "cell_type": "code",
   "execution_count": 92,
   "metadata": {},
   "outputs": [
    {
     "data": {
      "text/plain": [
       "<Axes: ylabel='Count'>"
      ]
     },
     "execution_count": 92,
     "metadata": {},
     "output_type": "execute_result"
    },
    {
     "data": {
      "image/png": "[encoded data removed]",
      "text/plain": [
       "<Figure size 640x480 with 1 Axes>"
      ]
     },
     "metadata": {},
     "output_type": "display_data"
    }
   ],
   "source": [
    "sns.histplot(dist_time_between_sessions.to_pandas()[\"avg_time_between_sessions\"][3])"
   ]
  },
  {
   "cell_type": "code",
   "execution_count": 115,
   "metadata": {},
   "outputs": [],
   "source": [
    "users_session_dist = (\n",
    "    df.group_by(\"user_id\")\n",
    "    .agg(\n",
    "        pl.col(\"user_session\").n_unique().alias(\"n_sessions\"),\n",
    "        pl.col(\"event_type\").is_in([\"purchase\"]).sum().alias(\"n_purchases\"),\n",
    "    )\n",
    ").collect().to_pandas()"
   ]
  },
  {
   "cell_type": "code",
   "execution_count": 121,
   "metadata": {},
   "outputs": [
    {
     "data": {
      "text/plain": [
       "<Axes: xlabel='n_sessions', ylabel='Count'>"
      ]
     },
     "execution_count": 121,
     "metadata": {},
     "output_type": "execute_result"
    },
    {
     "data": {
      "image/png": "[encoded data removed]",
      "text/plain": [
       "<Figure size 640x480 with 1 Axes>"
      ]
     },
     "metadata": {},
     "output_type": "display_data"
    }
   ],
   "source": [
    "sns.histplot(users_session_dist[\"n_sessions\"].loc[users_session_dist[\"n_sessions\"].between(5, 40)], bins=100)"
   ]
  },
  {
   "cell_type": "code",
   "execution_count": 124,
   "metadata": {},
   "outputs": [],
   "source": [
    "users_session_dist = (\n",
    "    df.group_by(\"user_id\")\n",
    "    .agg(\n",
    "        pl.col(\"user_session\").n_unique().alias(\"n_sessions\"),\n",
    "        pl.col(\"event_type\").is_in([\"purchase\"]).sum().alias(\"n_purchases\"),\n",
    "    )\n",
    "    .group_by(\"n_sessions\")\n",
    "    .agg(\n",
    "        pl.col(\"n_sessions\").count().alias(\"n_users\"),\n",
    "        pl.col(\"n_purchases\").sum().alias(\"n_purchases\"),\n",
    "    )\n",
    "    .sort(\"n_sessions\")\n",
    "    .collect()\n",
    "    .to_pandas()\n",
    ")"
   ]
  },
  {
   "cell_type": "code",
   "execution_count": 128,
   "metadata": {},
   "outputs": [
    {
     "data": {
      "text/plain": [
       "0     0.048517\n",
       "1     0.270329\n",
       "2     0.580216\n",
       "3     0.813064\n",
       "4     1.011352\n",
       "        ...   \n",
       "68    0.000000\n",
       "69    0.000000\n",
       "70    1.000000\n",
       "71    1.000000\n",
       "72    4.000000\n",
       "Length: 73, dtype: float64"
      ]
     },
     "execution_count": 128,
     "metadata": {},
     "output_type": "execute_result"
    }
   ],
   "source": [
    "users_session_dist[\"n_purchases\"] / users_session_dist[\"n_users\"]"
   ]
  },
  {
   "cell_type": "code",
   "execution_count": null,
   "metadata": {},
   "outputs": [],
   "source": []
  }
 ],
 "metadata": {
  "kernelspec": {
   "display_name": "Python 3",
   "language": "python",
   "name": "python3"
  },
  "language_info": {
   "codemirror_mode": {
    "name": "ipython",
    "version": 3
   },
   "file_extension": ".py",
   "mimetype": "text/x-python",
   "name": "python",
   "nbconvert_exporter": "python",
   "pygments_lexer": "ipython3",
   "version": "3.12.3"
  }
 },
 "nbformat": 4,
 "nbformat_minor": 2
}
